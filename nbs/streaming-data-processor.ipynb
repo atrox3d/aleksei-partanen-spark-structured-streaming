{
 "cells": [
  {
   "cell_type": "code",
   "execution_count": null,
   "id": "59208315",
   "metadata": {},
   "outputs": [],
   "source": [
    "import json\n",
    "import os\n",
    "from pathlib import Path\n",
    "import uuid\n",
    "import random\n",
    "import time\n",
    "from datetime import datetime, timezone\n",
    "\n",
    "from pyspark.sql import SparkSession, DataFrame\n",
    "from pyspark.sql.types import StructType, StringType, DoubleType, TimestampType\n",
    "import pyspark.sql.functions as F\n",
    "\n",
    "PROJECT_PATH = Path.cwd().parent\n",
    "DATA_DIR = '.data'\n",
    "DATA_PATH = PROJECT_PATH / DATA_DIR\n",
    "DATA_PATH.mkdir(exist_ok=True)\n",
    "\n",
    "output_folder = str(DATA_PATH)\n",
    "checkpoint_path = str(Path.cwd() / 'checkpoint')\n",
    "\n",
    "file_schema = StructType() \\\n",
    "    .add('id', StringType()) \\\n",
    "    .add('temperature', DoubleType()) \\\n",
    "    .add('timestamp', TimestampType())\n",
    "\n",
    "schema_name = 'dp700_e011'\n",
    "table_name = 'temperature_stream'\n",
    "\n",
    "spark = SparkSession.builder.appName('test').master('local[*]').getOrCreate()\n"
   ]
  },
  {
   "cell_type": "code",
   "execution_count": null,
   "id": "e0459b42",
   "metadata": {},
   "outputs": [],
   "source": [
    "# spark.sql(f'CREATE SCHEMA IF NOT EXISTS {schema_name}')\n"
   ]
  },
  {
   "cell_type": "code",
   "execution_count": null,
   "id": "75412596",
   "metadata": {},
   "outputs": [],
   "source": [
    "raw_stream_df = spark.readStream \\\n",
    "    .schema(file_schema) \\\n",
    "    .option('maxFilesPerTrigger', 1) \\\n",
    "    .json(output_folder)\n",
    "\n",
    "transformed_stream_df = raw_stream_df \\\n",
    "    .withColumn('processed_timestamp',\n",
    "        F.current_timestamp())\n",
    "\n",
    "delta_stream = transformed_stream_df.writeStream \\\n",
    "    .format('memory') \\\n",
    "    .queryName(\"filtered\") \\\n",
    "    .outputMode('append') \\\n",
    "    .option('checkpointLocation', checkpoint_path) \\\n",
    "    .start()"
   ]
  },
  {
   "cell_type": "code",
   "execution_count": null,
   "id": "551c7275",
   "metadata": {},
   "outputs": [],
   "source": [
    "while delta_stream.isActive:\n",
    "    print(delta_stream.status)\n",
    "    print(delta_stream.lastProgress)\n",
    "    time.sleep(5)\n",
    "    "
   ]
  },
  {
   "cell_type": "code",
   "execution_count": null,
   "id": "4db23003",
   "metadata": {},
   "outputs": [],
   "source": []
  },
  {
   "cell_type": "code",
   "execution_count": null,
   "id": "84afa5d8",
   "metadata": {},
   "outputs": [],
   "source": [
    "# df = spark.sql(f'SELECT * FROM {schema_name}.{table_name}')\n",
    "df = spark.sql(f'SELECT * FROM filtered')\n",
    "df.show()"
   ]
  },
  {
   "cell_type": "code",
   "execution_count": null,
   "id": "c7b99c33",
   "metadata": {},
   "outputs": [],
   "source": [
    "delta_stream.stop()\n",
    "spark.stop()"
   ]
  }
 ],
 "metadata": {
  "kernelspec": {
   "display_name": "aleksei-partanen-spark-structured-streaming",
   "language": "python",
   "name": "python3"
  },
  "language_info": {
   "codemirror_mode": {
    "name": "ipython",
    "version": 3
   },
   "file_extension": ".py",
   "mimetype": "text/x-python",
   "name": "python",
   "nbconvert_exporter": "python",
   "pygments_lexer": "ipython3",
   "version": "3.11.13"
  }
 },
 "nbformat": 4,
 "nbformat_minor": 5
}
