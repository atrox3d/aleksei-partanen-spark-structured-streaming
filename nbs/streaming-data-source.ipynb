{
 "cells": [
  {
   "cell_type": "code",
   "execution_count": 1,
   "id": "59208315",
   "metadata": {},
   "outputs": [],
   "source": [
    "import json\n",
    "import os\n",
    "from pathlib import Path\n",
    "import uuid\n",
    "import random\n",
    "import time\n",
    "from datetime import datetime, timezone\n",
    "import shutil\n",
    "\n",
    "PROJECT_PATH = Path.cwd().parent\n",
    "DATA_DIR = '.data'\n",
    "DATA_PATH = PROJECT_PATH / DATA_DIR\n",
    "\n",
    "output_folder = str(DATA_PATH)\n",
    "num_files = 10\n",
    "wait_seconds = 5\n"
   ]
  },
  {
   "cell_type": "code",
   "execution_count": 2,
   "id": "6a5530a8",
   "metadata": {},
   "outputs": [],
   "source": [
    "shutil.rmtree(DATA_PATH, True)\n",
    "DATA_PATH.mkdir(exist_ok=True)\n",
    "\n",
    "\n",
    "for _ in range(num_files):\n",
    "    now = datetime.now(timezone.utc)\n",
    "    timestamp = now.strftime('%Y%m%dT%H%M%SZ')\n",
    "    \n",
    "    record = {\n",
    "        'id': str(uuid.uuid4()),\n",
    "        'temperature': round(random.uniform(18.0, 30.0), 2),\n",
    "        'timestamp': now.isoformat()\n",
    "    }\n",
    "    \n",
    "    filename = f'temperature_{timestamp}.json'\n",
    "    file_path = str(DATA_PATH / filename)\n",
    "    \n",
    "    with open(file_path, 'w') as fp:\n",
    "        json.dump(record, fp)\n",
    "    \n",
    "    time.sleep(wait_seconds)"
   ]
  }
 ],
 "metadata": {
  "kernelspec": {
   "display_name": "aleksei-partanen-spark-structured-streaming",
   "language": "python",
   "name": "python3"
  },
  "language_info": {
   "codemirror_mode": {
    "name": "ipython",
    "version": 3
   },
   "file_extension": ".py",
   "mimetype": "text/x-python",
   "name": "python",
   "nbconvert_exporter": "python",
   "pygments_lexer": "ipython3",
   "version": "3.11.13"
  }
 },
 "nbformat": 4,
 "nbformat_minor": 5
}
